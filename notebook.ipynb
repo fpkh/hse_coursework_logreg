{
 "cells": [
  {
   "attachments": {},
   "cell_type": "markdown",
   "metadata": {},
   "source": [
    "# Program for Assessing the Creditworthiness of Borrowers Based on the Logistic Regression Algorithm (python notebook)"
   ]
  },
  {
   "attachments": {},
   "cell_type": "markdown",
   "metadata": {},
   "source": [
    "## Deadlines:\n",
    "* 20.02.2023  Exploratory data analysis of the selected scoring dataset  \n",
    "* 24.02.2023  Binary logit regression model baseline  \n",
    "* 03.03.2023  Feature engineering/selection/elimination  \n",
    "* 06.03.2023  Final logistic regression model"
   ]
  },
  {
   "cell_type": "markdown",
   "metadata": {},
   "source": []
  },
  {
   "cell_type": "markdown",
   "metadata": {},
   "source": []
  }
 ],
 "metadata": {
  "kernelspec": {
   "display_name": "crapping",
   "language": "python",
   "name": "python3"
  },
  "language_info": {
   "name": "python",
   "version": "3.10.9"
  },
  "orig_nbformat": 4,
  "vscode": {
   "interpreter": {
    "hash": "99a710ef1abcdc8664608239de4c3252c4f28b8ad07e23baec6b3ed966fb1d18"
   }
  }
 },
 "nbformat": 4,
 "nbformat_minor": 2
}
